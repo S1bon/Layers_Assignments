{
 "cells": [
  {
   "cell_type": "code",
   "execution_count": null,
   "id": "66fa916b",
   "metadata": {},
   "outputs": [],
   "source": [
    "#Python If-Else\n",
    "if __name__ == '__main__':\n",
    "    n = int(input().strip())\n",
    "\n",
    "    if n%2 != 0:\n",
    "        print(\"Weird\")\n",
    "    else:\n",
    "        if n>=2 and n<=5:\n",
    "            print(\"Not Weird\")\n",
    "        elif n>=6 and n<=20:\n",
    "            print(\"Weird\")\n",
    "        else:\n",
    "            print(\"Not Weird\")"
   ]
  },
  {
   "cell_type": "code",
   "execution_count": null,
   "id": "37aed623",
   "metadata": {},
   "outputs": [],
   "source": [
    "#Arithmetic Operators\n",
    "a = int(input())\n",
    "b = int(input())\n",
    "print(a+b);\n",
    "print(a-b);\n",
    "print(a*b);"
   ]
  },
  {
   "cell_type": "code",
   "execution_count": null,
   "id": "79c6fc8a",
   "metadata": {},
   "outputs": [],
   "source": [
    "#Python: Division\n",
    "a = int(input())\n",
    "b = int(input())\n",
    "print(a//b);\n",
    "print(a/b);"
   ]
  },
  {
   "cell_type": "code",
   "execution_count": null,
   "id": "1afab981",
   "metadata": {},
   "outputs": [],
   "source": [
    "#Loops\n",
    "n = int(input())\n",
    "for i in range(n):\n",
    "    print(i*i);"
   ]
  },
  {
   "cell_type": "code",
   "execution_count": null,
   "id": "e3d71eea",
   "metadata": {},
   "outputs": [],
   "source": [
    "#Write a function\n",
    "def is_leap(year):\n",
    "    leap = False\n",
    "    if year%400==0 :\n",
    "        leap = True;\n",
    "    elif year%4 == 0 and year%100 != 0:\n",
    "        leap = True;\n",
    "    return leap\n",
    "year = int(input())\n",
    "print(is_leap(year))"
   ]
  },
  {
   "cell_type": "code",
   "execution_count": null,
   "id": "7ca48d4e",
   "metadata": {},
   "outputs": [],
   "source": [
    "#Print Function\n",
    "n = int(input())\n",
    "for i in range(1,n+1):\n",
    "    print(i,end='');"
   ]
  },
  {
   "cell_type": "code",
   "execution_count": null,
   "id": "d2931d10",
   "metadata": {},
   "outputs": [],
   "source": [
    "#Find the Runner-Up Score\n",
    "n = int(input())\n",
    "arr = map(int, input().split())\n",
    "print(sorted(list(set(arr)))[-2])"
   ]
  },
  {
   "cell_type": "code",
   "execution_count": null,
   "id": "4fe06b78",
   "metadata": {},
   "outputs": [],
   "source": [
    "#Nested Lists\n",
    "score_list = []; # do not forget to declare a list\n",
    "for _ in range(int(input())):\n",
    "    name = input()\n",
    "    score = float(input())\n",
    "    score_list.append([name, score])\n",
    "second_highest = sorted(set([score for name, score in score_list]))[1]\n",
    "print('\\n'.join(sorted([name for name, score in score_list if score == second_highest])))"
   ]
  },
  {
   "cell_type": "code",
   "execution_count": null,
   "id": "0244d676",
   "metadata": {},
   "outputs": [],
   "source": [
    "#Finding the percentage\n",
    "n = int(input())\n",
    "student_marks = {}\n",
    "for _ in range(n):\n",
    "    name, *line = input().split()\n",
    "    scores = list(map(float, line))\n",
    "    student_marks[name] = scores\n",
    "query_name = input()\n",
    "\n",
    "output = list(student_marks[query_name])\n",
    "per = sum(output)/len(output);\n",
    "print(\"%.2f\" % per);"
   ]
  },
  {
   "cell_type": "code",
   "execution_count": null,
   "id": "b2973f4c",
   "metadata": {},
   "outputs": [],
   "source": [
    "#Lists\n",
    "N = int(input())\n",
    "Output = [];\n",
    "for i in range(0,N):\n",
    "    ip = input().split();\n",
    "    if ip[0] == \"print\":\n",
    "        print(Output)\n",
    "    elif ip[0] == \"insert\":\n",
    "        Output.insert(int(ip[1]),int(ip[2]))\n",
    "    elif ip[0] == \"remove\":\n",
    "        Output.remove(int(ip[1]))\n",
    "    elif ip[0] == \"pop\":\n",
    "        Output.pop();\n",
    "    elif ip[0] == \"append\":\n",
    "        Output.append(int(ip[1]))\n",
    "    elif ip[0] == \"sort\":\n",
    "        Output.sort();\n",
    "    else:\n",
    "        Output.reverse();"
   ]
  },
  {
   "cell_type": "code",
   "execution_count": null,
   "id": "d95e35d6",
   "metadata": {},
   "outputs": [],
   "source": [
    "#Tuples\n",
    "n = int(input())\n",
    "integer_list = map(int, input().split())\n",
    "t = tuple(integer_list)\n",
    "print(hash(t));"
   ]
  },
  {
   "cell_type": "code",
   "execution_count": null,
   "id": "89270cd2",
   "metadata": {},
   "outputs": [],
   "source": [
    "#List Comprehensions\n",
    "X = int(input())\n",
    "Y = int(input())\n",
    "Z = int(input())\n",
    "N = int(input())\n",
    "\n",
    "ans = [[i, j, k] for i in range(X + 1) for j in range(Y + 1) for k in range(Z + 1) if i + j + k != N]\n",
    "print(ans)"
   ]
  },
  {
   "cell_type": "code",
   "execution_count": null,
   "id": "8eaa1f6d",
   "metadata": {},
   "outputs": [],
   "source": []
  },
  {
   "cell_type": "code",
   "execution_count": null,
   "id": "8c277857",
   "metadata": {},
   "outputs": [],
   "source": []
  },
  {
   "cell_type": "code",
   "execution_count": null,
   "id": "70786f0a",
   "metadata": {},
   "outputs": [],
   "source": []
  },
  {
   "cell_type": "code",
   "execution_count": null,
   "id": "e03c8f29",
   "metadata": {},
   "outputs": [],
   "source": []
  },
  {
   "cell_type": "code",
   "execution_count": null,
   "id": "e733d501",
   "metadata": {},
   "outputs": [],
   "source": []
  }
 ],
 "metadata": {
  "kernelspec": {
   "display_name": "Python 3 (ipykernel)",
   "language": "python",
   "name": "python3"
  },
  "language_info": {
   "codemirror_mode": {
    "name": "ipython",
    "version": 3
   },
   "file_extension": ".py",
   "mimetype": "text/x-python",
   "name": "python",
   "nbconvert_exporter": "python",
   "pygments_lexer": "ipython3",
   "version": "3.9.7"
  }
 },
 "nbformat": 4,
 "nbformat_minor": 5
}
